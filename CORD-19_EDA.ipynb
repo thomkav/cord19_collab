{
 "cells": [
  {
   "cell_type": "code",
   "execution_count": 59,
   "metadata": {
    "ExecuteTime": {
     "end_time": "2020-03-27T06:49:37.280421Z",
     "start_time": "2020-03-27T06:49:37.276074Z"
    }
   },
   "outputs": [],
   "source": [
    "import pandas as pd\n",
    "import numpy as np\n",
    "import pdb\n",
    "import spacy\n",
    "from spacy.tokens import Doc, Token, Span\n",
    "from pymongo import TEXT, MongoClient\n",
    "#!pip install spacy\n",
    "#!pip install scispacy\n",
    "#!pip install https://s3-us-west-2.amazonaws.com/ai2-s2-scispacy/releases/v0.2.4/en_core_sci_lg-0.2.4.tar.gz\n",
    "import scispacy\n",
    "import mongo_utils\n",
    "from mongo_utils import make_doc_gen, search_collections\n",
    "from transformers import *\n",
    "import transformers"
   ]
  },
  {
   "cell_type": "code",
   "execution_count": 60,
   "metadata": {
    "ExecuteTime": {
     "end_time": "2020-03-27T06:49:48.287941Z",
     "start_time": "2020-03-27T06:49:48.283768Z"
    }
   },
   "outputs": [
    {
     "data": {
      "text/plain": [
       "'2.6.0'"
      ]
     },
     "execution_count": 60,
     "metadata": {},
     "output_type": "execute_result"
    }
   ],
   "source": [
    "transformers.__version__"
   ]
  },
  {
   "cell_type": "code",
   "execution_count": 3,
   "metadata": {
    "ExecuteTime": {
     "end_time": "2020-03-26T22:32:30.081564Z",
     "start_time": "2020-03-26T22:32:29.569018Z"
    }
   },
   "outputs": [],
   "source": [
    "client = MongoClient('localhost', 56789)\n",
    "db = client['CORD-19']\n",
    "metadata = pd.read_csv('/home/alex/CORD-19_data/2020-03-13/all_sources_metadata_2020-03-13.csv')"
   ]
  },
  {
   "cell_type": "code",
   "execution_count": null,
   "metadata": {
    "ExecuteTime": {
     "end_time": "2020-03-24T06:10:16.925816Z",
     "start_time": "2020-03-24T06:10:11.267489Z"
    }
   },
   "outputs": [],
   "source": [
    "for collection in db.list_collection_names():\n",
    "    db[collection].create_index([(\"abstract.text\", TEXT)])\n",
    "    db[collection].update_many(\n",
    "    {},\n",
    "    {\"$set\":\n",
    "        {\"abstract.$[].loc\": \"abstract\",\n",
    "        \"body_text.$[].loc\": \"body_text\"}\n",
    "    })\n"
   ]
  },
  {
   "cell_type": "code",
   "execution_count": 24,
   "metadata": {
    "ExecuteTime": {
     "end_time": "2020-03-26T05:00:55.932015Z",
     "start_time": "2020-03-26T05:00:55.908622Z"
    }
   },
   "outputs": [],
   "source": [
    "def doc_metadata_tagger(doc_tuple):\n",
    "    print(len(doc_tuple))\n",
    "    print(doc_tuple)\n",
    "#     Doc.set_extension(\"paper_id\", default=None)\n",
    "#     Doc.set_extension(\"Authors\", default=None)\n",
    "    return doc_tuple\n",
    "nlp.disable_pipes(\"doc_metadata_tagger\")\n",
    "nlp.add_pipe(doc_metadata_tagger)"
   ]
  },
  {
   "cell_type": "code",
   "execution_count": 20,
   "metadata": {
    "ExecuteTime": {
     "end_time": "2020-03-27T04:01:01.209400Z",
     "start_time": "2020-03-27T04:01:01.204906Z"
    }
   },
   "outputs": [],
   "source": [
    "#nlp = spacy.load(\"en_core_sci_lg\")\n",
    "doc_gen = make_doc_gen(db, query=None)\n",
    "#docs = nlp.pipe(doc_gen, as_tuples=True)\n",
    "texts = (doc[0] for doc in doc_gen)"
   ]
  },
  {
   "cell_type": "code",
   "execution_count": 6,
   "metadata": {
    "ExecuteTime": {
     "end_time": "2020-03-26T22:38:15.094456Z",
     "start_time": "2020-03-26T22:38:12.339350Z"
    }
   },
   "outputs": [],
   "source": [
    "#pipeline = transformers.FeatureExtractionPipeline\n",
    "tokenizer = AutoTokenizer.from_pretrained('allenai/scibert_scivocab_uncased')\n",
    "model = AutoModel.from_pretrained('allenai/scibert_scivocab_uncased')\n",
    "pipeline = FeatureExtractionPipeline(model, tokenizer)"
   ]
  },
  {
   "cell_type": "code",
   "execution_count": 48,
   "metadata": {
    "ExecuteTime": {
     "end_time": "2020-03-27T05:34:19.623366Z",
     "start_time": "2020-03-27T05:34:19.558586Z"
    }
   },
   "outputs": [
    {
     "ename": "ValueError",
     "evalue": "only one element tensors can be converted to Python scalars",
     "output_type": "error",
     "traceback": [
      "\u001b[0;31m---------------------------------------------------------------------------\u001b[0m",
      "\u001b[0;31mValueError\u001b[0m                                Traceback (most recent call last)",
      "\u001b[0;32m<ipython-input-48-ed5af603834c>\u001b[0m in \u001b[0;36m<module>\u001b[0;34m\u001b[0m\n\u001b[0;32m----> 1\u001b[0;31m \u001b[0mtokenizer\u001b[0m\u001b[0;34m.\u001b[0m\u001b[0mconvert_ids_to_tokens\u001b[0m\u001b[0;34m(\u001b[0m\u001b[0mtokenizer\u001b[0m\u001b[0;34m.\u001b[0m\u001b[0mencode\u001b[0m\u001b[0;34m(\u001b[0m\u001b[0;34m'supercalifragialisticexpialidotious'\u001b[0m\u001b[0;34m,\u001b[0m \u001b[0mreturn_tensors\u001b[0m\u001b[0;34m=\u001b[0m\u001b[0;34m'pt'\u001b[0m\u001b[0;34m,\u001b[0m \u001b[0madd_special_tokens\u001b[0m\u001b[0;34m=\u001b[0m\u001b[0;32mTrue\u001b[0m\u001b[0;34m)\u001b[0m\u001b[0;34m)\u001b[0m\u001b[0;34m\u001b[0m\u001b[0;34m\u001b[0m\u001b[0m\n\u001b[0m",
      "\u001b[0;32m~/anaconda3/envs/COVID-NLP/lib/python3.7/site-packages/transformers/tokenization_utils.py\u001b[0m in \u001b[0;36mconvert_ids_to_tokens\u001b[0;34m(self, ids, skip_special_tokens)\u001b[0m\n\u001b[1;32m   1573\u001b[0m         \u001b[0mtokens\u001b[0m \u001b[0;34m=\u001b[0m \u001b[0;34m[\u001b[0m\u001b[0;34m]\u001b[0m\u001b[0;34m\u001b[0m\u001b[0;34m\u001b[0m\u001b[0m\n\u001b[1;32m   1574\u001b[0m         \u001b[0;32mfor\u001b[0m \u001b[0mindex\u001b[0m \u001b[0;32min\u001b[0m \u001b[0mids\u001b[0m\u001b[0;34m:\u001b[0m\u001b[0;34m\u001b[0m\u001b[0;34m\u001b[0m\u001b[0m\n\u001b[0;32m-> 1575\u001b[0;31m             \u001b[0mindex\u001b[0m \u001b[0;34m=\u001b[0m \u001b[0mint\u001b[0m\u001b[0;34m(\u001b[0m\u001b[0mindex\u001b[0m\u001b[0;34m)\u001b[0m\u001b[0;34m\u001b[0m\u001b[0;34m\u001b[0m\u001b[0m\n\u001b[0m\u001b[1;32m   1576\u001b[0m             \u001b[0;32mif\u001b[0m \u001b[0mskip_special_tokens\u001b[0m \u001b[0;32mand\u001b[0m \u001b[0mindex\u001b[0m \u001b[0;32min\u001b[0m \u001b[0mself\u001b[0m\u001b[0;34m.\u001b[0m\u001b[0mall_special_ids\u001b[0m\u001b[0;34m:\u001b[0m\u001b[0;34m\u001b[0m\u001b[0;34m\u001b[0m\u001b[0m\n\u001b[1;32m   1577\u001b[0m                 \u001b[0;32mcontinue\u001b[0m\u001b[0;34m\u001b[0m\u001b[0;34m\u001b[0m\u001b[0m\n",
      "\u001b[0;31mValueError\u001b[0m: only one element tensors can be converted to Python scalars"
     ]
    }
   ],
   "source": [
    "tokenizer.batch_encode_plus()"
   ]
  },
  {
   "cell_type": "markdown",
   "metadata": {},
   "source": [
    "Using our helper functions, let's create a small corpus of documents that have \"coronavirus\" in the abstract."
   ]
  },
  {
   "cell_type": "code",
   "execution_count": 61,
   "metadata": {
    "ExecuteTime": {
     "end_time": "2020-03-27T06:59:12.910744Z",
     "start_time": "2020-03-27T06:59:12.837255Z"
    }
   },
   "outputs": [
    {
     "data": {
      "text/plain": [
       "torch.Size([1, 9, 768])"
      ]
     },
     "execution_count": 61,
     "metadata": {},
     "output_type": "execute_result"
    }
   ],
   "source": [
    "model(tokenizer.encode('unaffable asshole returns home', return_tensors='pt'))[0].shape"
   ]
  },
  {
   "cell_type": "code",
   "execution_count": null,
   "metadata": {
    "ExecuteTime": {
     "end_time": "2020-03-21T18:52:30.872256Z",
     "start_time": "2020-03-21T18:52:30.861702Z"
    }
   },
   "outputs": [],
   "source": [
    "def author_getter(doc):\n",
    "    author+=json.metadata.authors\n",
    "    doc._.authors = author\n",
    "    return doc\n",
    "\n",
    "def search_snippets(doc, search_criteria):\n",
    "    for sentences in doc.sents:\n",
    "        matches = matcher(sentence)\n",
    "        sentence._.is_match = True\n",
    "\n",
    "nlp.add_pipe(author_getter)"
   ]
  },
  {
   "cell_type": "code",
   "execution_count": null,
   "metadata": {
    "ExecuteTime": {
     "end_time": "2020-03-21T18:55:27.398132Z",
     "start_time": "2020-03-21T18:55:27.389979Z"
    }
   },
   "outputs": [],
   "source": [
    "snippet_details = {}\n"
   ]
  },
  {
   "cell_type": "code",
   "execution_count": null,
   "metadata": {
    "ExecuteTime": {
     "end_time": "2020-03-20T08:30:57.515561Z",
     "start_time": "2020-03-20T08:30:50.743235Z"
    }
   },
   "outputs": [],
   "source": [
    "sample_doc = next(docs)\n",
    "doc._.snippets"
   ]
  },
  {
   "cell_type": "code",
   "execution_count": null,
   "metadata": {
    "ExecuteTime": {
     "end_time": "2020-03-20T17:21:37.109049Z",
     "start_time": "2020-03-20T17:21:37.099381Z"
    }
   },
   "outputs": [],
   "source": [
    "ex = next(sentences)\n",
    "print(ex)"
   ]
  },
  {
   "cell_type": "code",
   "execution_count": null,
   "metadata": {
    "ExecuteTime": {
     "end_time": "2020-03-20T18:17:03.294941Z",
     "start_time": "2020-03-20T18:17:03.286407Z"
    }
   },
   "outputs": [],
   "source": [
    "ex[0].sent"
   ]
  },
  {
   "cell_type": "code",
   "execution_count": null,
   "metadata": {
    "ExecuteTime": {
     "end_time": "2020-03-19T21:46:26.066137Z",
     "start_time": "2020-03-19T21:46:25.943Z"
    }
   },
   "outputs": [],
   "source": [
    "abstract = [p['text'] for p in next(search_gen)['abstract']]\n",
    "sents = nlp.pipe(soc_med_docs)"
   ]
  },
  {
   "cell_type": "code",
   "execution_count": null,
   "metadata": {
    "ExecuteTime": {
     "end_time": "2020-03-19T21:46:26.067609Z",
     "start_time": "2020-03-19T21:46:25.945Z"
    }
   },
   "outputs": [],
   "source": [
    "ex = next(sents)"
   ]
  },
  {
   "cell_type": "code",
   "execution_count": null,
   "metadata": {
    "ExecuteTime": {
     "end_time": "2020-03-19T21:46:26.068694Z",
     "start_time": "2020-03-19T21:46:25.949Z"
    }
   },
   "outputs": [],
   "source": [
    "ex.tensor"
   ]
  },
  {
   "cell_type": "code",
   "execution_count": null,
   "metadata": {
    "ExecuteTime": {
     "end_time": "2020-03-19T21:46:26.070137Z",
     "start_time": "2020-03-19T21:46:25.951Z"
    }
   },
   "outputs": [],
   "source": [
    "from spacy.lang.en import English\n",
    "print(nlp.pipe_names)\n",
    "#nlp.add_pipe(nlp.create_pipe('sentencizer')) # updated"
   ]
  },
  {
   "cell_type": "code",
   "execution_count": null,
   "metadata": {
    "ExecuteTime": {
     "end_time": "2020-03-19T21:46:26.071326Z",
     "start_time": "2020-03-19T21:46:25.954Z"
    }
   },
   "outputs": [],
   "source": [
    "#nlp.add_pipe(nlp.create_pipe('sentencizer'))\n",
    "nlp.disable_pipes('parser')\n",
    "nlp.pipe_names"
   ]
  },
  {
   "cell_type": "code",
   "execution_count": null,
   "metadata": {
    "ExecuteTime": {
     "end_time": "2020-03-19T21:46:26.072693Z",
     "start_time": "2020-03-19T21:46:25.957Z"
    }
   },
   "outputs": [],
   "source": [
    "corpus = {}\n",
    "for doc in search_collect:\n",
    "    #creates a dict of the joined body text. Keys are Mongo ids. \n",
    "    corpus[doc['_id']]=join_text(doc, key='body_text')"
   ]
  },
  {
   "cell_type": "code",
   "execution_count": null,
   "metadata": {
    "ExecuteTime": {
     "end_time": "2020-03-19T21:46:26.074219Z",
     "start_time": "2020-03-19T21:46:25.959Z"
    }
   },
   "outputs": [],
   "source": [
    "tfidfs = TfidfVectorizer(max_df=0.8, min_df=0.2, stop_words='english')\n",
    "doc_word_tfidf = tfidfs.fit_transform(corpus.values())"
   ]
  },
  {
   "cell_type": "code",
   "execution_count": null,
   "metadata": {
    "ExecuteTime": {
     "end_time": "2020-03-19T21:46:26.075478Z",
     "start_time": "2020-03-19T21:46:25.960Z"
    }
   },
   "outputs": [],
   "source": [
    "doc_word_dataframe = pd.DataFrame(doc_word_tfidf.toarray(), columns = tfidfs.get_feature_names(), index = corpus.keys())"
   ]
  },
  {
   "cell_type": "code",
   "execution_count": null,
   "metadata": {
    "ExecuteTime": {
     "end_time": "2020-03-19T21:46:26.076766Z",
     "start_time": "2020-03-19T21:46:25.963Z"
    }
   },
   "outputs": [],
   "source": [
    "doc_word_dataframe.head()"
   ]
  },
  {
   "cell_type": "code",
   "execution_count": null,
   "metadata": {
    "ExecuteTime": {
     "end_time": "2020-03-19T21:46:26.077757Z",
     "start_time": "2020-03-19T21:46:25.965Z"
    },
    "code_folding": []
   },
   "outputs": [],
   "source": [
    "#experimental text cleaning code\n",
    "\n",
    "body = ''\n",
    "for paragraph in test_doc['body_text']:\n",
    "    section = paragraph['text']\n",
    "    for span in paragraph['ref_spans']:\n",
    "        section = section[:span['start']]+section[span['end']:]\n",
    "    for span in paragraph['cite_spans']:\n",
    "        section = section[:span['start']]+section[span['end']:]\n",
    "    section = re.sub('The copyright.*bioRxiv', '', section)\n",
    "    body+=section\n",
    "        \n",
    "                        "
   ]
  },
  {
   "cell_type": "code",
   "execution_count": null,
   "metadata": {
    "ExecuteTime": {
     "end_time": "2020-03-19T21:46:26.078616Z",
     "start_time": "2020-03-19T21:46:25.967Z"
    }
   },
   "outputs": [],
   "source": [
    " \"\"\"\n",
    " 'In this report, we show first that the standard Susceptible-Infected-Removed (SIR) model cannot account\n",
    " for the patterns observed in various regions where the disease spread.\n",
    " We develop a model involving two superimposed epidemics to study the recent spread of the SARS in Hong Kong\n",
    " and in the region. We explore the situation where these epidemics may be caused either by a virus and\n",
    " one or several mutants that changed its tropism, or by two unrelated viruses. \n",
    " This has important consequences for the future: the innocuous epidemic might still be there and generate,\n",
    " from time to time, variants that would have properties similar to those of SARS.\n",
    " \"\"\""
   ]
  },
  {
   "cell_type": "code",
   "execution_count": null,
   "metadata": {},
   "outputs": [],
   "source": [
    "abstracts = nlp.pipe(document_gen['abstract'])"
   ]
  },
  {
   "cell_type": "code",
   "execution_count": 49,
   "metadata": {
    "ExecuteTime": {
     "end_time": "2020-03-27T06:15:30.675586Z",
     "start_time": "2020-03-27T06:15:30.264602Z"
    }
   },
   "outputs": [],
   "source": [
    "from spacy.lang.en import English\n",
    "\n",
    "nlp = English()\n",
    "sentencizer = nlp.create_pipe(\"sentencizer\")\n",
    "nlp.add_pipe(sentencizer)"
   ]
  },
  {
   "cell_type": "code",
   "execution_count": 51,
   "metadata": {
    "ExecuteTime": {
     "end_time": "2020-03-27T06:15:38.412593Z",
     "start_time": "2020-03-27T06:15:38.401492Z"
    }
   },
   "outputs": [
    {
     "data": {
      "text/plain": [
       "[('sentencizer', <spacy.pipeline.pipes.Sentencizer at 0x7f9d04639c90>)]"
      ]
     },
     "execution_count": 51,
     "metadata": {},
     "output_type": "execute_result"
    }
   ],
   "source": [
    "nlp.pipeline"
   ]
  },
  {
   "cell_type": "code",
   "execution_count": null,
   "metadata": {},
   "outputs": [],
   "source": []
  }
 ],
 "metadata": {
  "kernelspec": {
   "display_name": "Python 3",
   "language": "python",
   "name": "python3"
  },
  "language_info": {
   "codemirror_mode": {
    "name": "ipython",
    "version": 3
   },
   "file_extension": ".py",
   "mimetype": "text/x-python",
   "name": "python",
   "nbconvert_exporter": "python",
   "pygments_lexer": "ipython3",
   "version": "3.7.6"
  },
  "varInspector": {
   "cols": {
    "lenName": 16,
    "lenType": 16,
    "lenVar": 40
   },
   "kernels_config": {
    "python": {
     "delete_cmd_postfix": "",
     "delete_cmd_prefix": "del ",
     "library": "var_list.py",
     "varRefreshCmd": "print(var_dic_list())"
    },
    "r": {
     "delete_cmd_postfix": ") ",
     "delete_cmd_prefix": "rm(",
     "library": "var_list.r",
     "varRefreshCmd": "cat(var_dic_list()) "
    }
   },
   "oldHeight": 359.01666600000004,
   "position": {
    "height": "306px",
    "left": "1385.83px",
    "right": "20px",
    "top": "120px",
    "width": "455.167px"
   },
   "types_to_exclude": [
    "module",
    "function",
    "builtin_function_or_method",
    "instance",
    "_Feature"
   ],
   "varInspector_section_display": "none",
   "window_display": true
  }
 },
 "nbformat": 4,
 "nbformat_minor": 4
}
