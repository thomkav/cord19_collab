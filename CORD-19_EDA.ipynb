{
 "cells": [
  {
   "cell_type": "code",
   "execution_count": 1275,
   "metadata": {
    "ExecuteTime": {
     "end_time": "2020-03-25T17:39:49.335936Z",
     "start_time": "2020-03-25T17:39:49.331850Z"
    }
   },
   "outputs": [],
   "source": [
    "import pandas as pd\n",
    "import numpy as np\n",
    "import pdb\n",
    "import os\n",
    "from sklearn.feature_extraction.text import CountVectorizer, TfidfVectorizer\n",
    "import spacy\n",
    "#!pip install spacy\n",
    "#!pip install scispacy\n",
    "#!pip install https://s3-us-west-2.amazonaws.com/ai2-s2-scispacy/releases/v0.2.4/en_core_sci_lg-0.2.4.tar.gz\n",
    "import scispacy\n",
    "from mongo_utils import make_doc_gen, search_collections"
   ]
  },
  {
   "cell_type": "code",
   "execution_count": 1276,
   "metadata": {
    "ExecuteTime": {
     "end_time": "2020-03-25T17:39:50.311693Z",
     "start_time": "2020-03-25T17:39:49.648910Z"
    }
   },
   "outputs": [],
   "source": [
    "client = MongoClient('localhost', 56789)\n",
    "db = client['CORD-19']\n",
    "metadata = pd.read_csv('/home/alex/CORD-19_data/2020-03-13/all_sources_metadata_2020-03-13.csv')"
   ]
  },
  {
   "cell_type": "code",
   "execution_count": 810,
   "metadata": {
    "ExecuteTime": {
     "end_time": "2020-03-24T06:10:16.925816Z",
     "start_time": "2020-03-24T06:10:11.267489Z"
    }
   },
   "outputs": [],
   "source": [
    "for collection in db.list_collection_names():\n",
    "    db[collection].create_index([(\"abstract.text\", TEXT)])\n",
    "    db[collection].update_many(\n",
    "    {},\n",
    "    {\"$set\":\n",
    "        {\"abstract.$[].loc\": \"abstract\",\n",
    "        \"body_text.$[].loc\": \"body_text\"}\n",
    "    })\n"
   ]
  },
  {
   "cell_type": "code",
   "execution_count": null,
   "metadata": {
    "ExecuteTime": {
     "end_time": "2020-03-25T06:57:21.770409Z",
     "start_time": "2020-03-25T06:57:21.765018Z"
    }
   },
   "outputs": [],
   "source": [
    "doc_gen = make_doc_gen()"
   ]
  },
  {
   "cell_type": "code",
   "execution_count": 1260,
   "metadata": {
    "ExecuteTime": {
     "end_time": "2020-03-25T06:57:22.050923Z",
     "start_time": "2020-03-25T06:57:21.999020Z"
    },
    "collapsed": true
   },
   "outputs": [
    {
     "data": {
      "text/plain": [
       "('The RNA pseudoknots in foot-and-mouth disease virus are dispensable for genome replication but essential for the production of infectious virus. 2 3',\n",
       " {'_id': ObjectId('5e71449a16fb805bfcc18024'),\n",
       "  'context': {'authors': [{'first': 'Joseph',\n",
       "     'middle': ['C'],\n",
       "     'last': 'Ward',\n",
       "     'suffix': '',\n",
       "     'affiliation': {},\n",
       "     'email': ''},\n",
       "    {'first': 'Lidia',\n",
       "     'middle': [],\n",
       "     'last': 'Lasecka-Dykes',\n",
       "     'suffix': '',\n",
       "     'affiliation': {},\n",
       "     'email': ''},\n",
       "    {'first': 'Chris',\n",
       "     'middle': [],\n",
       "     'last': 'Neil',\n",
       "     'suffix': '',\n",
       "     'affiliation': {},\n",
       "     'email': ''},\n",
       "    {'first': 'Oluwapelumi',\n",
       "     'middle': [],\n",
       "     'last': 'Adeyemi',\n",
       "     'suffix': '',\n",
       "     'affiliation': {},\n",
       "     'email': ''},\n",
       "    {'first': 'Sarah',\n",
       "     'middle': [],\n",
       "     'last': '',\n",
       "     'suffix': '',\n",
       "     'affiliation': {},\n",
       "     'email': ''},\n",
       "    {'first': '',\n",
       "     'middle': [],\n",
       "     'last': 'Gold',\n",
       "     'suffix': '',\n",
       "     'affiliation': {},\n",
       "     'email': ''},\n",
       "    {'first': 'Niall',\n",
       "     'middle': [],\n",
       "     'last': 'Mclean',\n",
       "     'suffix': '',\n",
       "     'affiliation': {},\n",
       "     'email': ''},\n",
       "    {'first': 'Caroline',\n",
       "     'middle': [],\n",
       "     'last': 'Wright',\n",
       "     'suffix': '',\n",
       "     'affiliation': {},\n",
       "     'email': ''},\n",
       "    {'first': 'Morgan',\n",
       "     'middle': ['R'],\n",
       "     'last': 'Herod',\n",
       "     'suffix': '',\n",
       "     'affiliation': {},\n",
       "     'email': ''},\n",
       "    {'first': 'David',\n",
       "     'middle': [],\n",
       "     'last': 'Kealy',\n",
       "     'suffix': '',\n",
       "     'affiliation': {},\n",
       "     'email': ''},\n",
       "    {'first': 'Emma',\n",
       "     'middle': [],\n",
       "     'last': '',\n",
       "     'suffix': '',\n",
       "     'affiliation': {},\n",
       "     'email': ''},\n",
       "    {'first': 'Warner',\n",
       "     'middle': [],\n",
       "     'last': '',\n",
       "     'suffix': '',\n",
       "     'affiliation': {},\n",
       "     'email': ''},\n",
       "    {'first': 'Donald',\n",
       "     'middle': ['P'],\n",
       "     'last': 'King',\n",
       "     'suffix': '',\n",
       "     'affiliation': {},\n",
       "     'email': ''},\n",
       "    {'first': 'Tobias',\n",
       "     'middle': ['J'],\n",
       "     'last': 'Tuthill',\n",
       "     'suffix': '',\n",
       "     'affiliation': {},\n",
       "     'email': ''},\n",
       "    {'first': 'David',\n",
       "     'middle': ['J'],\n",
       "     'last': 'Rowlands',\n",
       "     'suffix': '',\n",
       "     'affiliation': {},\n",
       "     'email': ''},\n",
       "    {'first': 'Nicola',\n",
       "     'middle': ['J'],\n",
       "     'last': '',\n",
       "     'suffix': '',\n",
       "     'affiliation': {},\n",
       "     'email': ''},\n",
       "    {'first': 'Stonehouse',\n",
       "     'middle': [],\n",
       "     'last': 'A#',\n",
       "     'suffix': '',\n",
       "     'affiliation': {},\n",
       "     'email': ''}]}})"
      ]
     },
     "execution_count": 1260,
     "metadata": {},
     "output_type": "execute_result"
    }
   ],
   "source": [
    "next(doc_gen)"
   ]
  },
  {
   "cell_type": "markdown",
   "metadata": {},
   "source": [
    "Using our helper functions, let's create a small corpus of documents that have \"coronavirus\" in the abstract."
   ]
  },
  {
   "cell_type": "code",
   "execution_count": 158,
   "metadata": {
    "ExecuteTime": {
     "end_time": "2020-03-21T18:55:27.282320Z",
     "start_time": "2020-03-21T18:54:54.179316Z"
    }
   },
   "outputs": [],
   "source": [
    "nlp = spacy.load(\"en_core_sci_lg\")"
   ]
  },
  {
   "cell_type": "code",
   "execution_count": 119,
   "metadata": {
    "ExecuteTime": {
     "end_time": "2020-03-20T19:37:08.152689Z",
     "start_time": "2020-03-20T19:37:08.138848Z"
    }
   },
   "outputs": [],
   "source": [
    "search_gen = search_collections(\"'\\The copyright holder\\\"\")"
   ]
  },
  {
   "cell_type": "code",
   "execution_count": 44,
   "metadata": {
    "ExecuteTime": {
     "end_time": "2020-03-20T08:30:39.186379Z",
     "start_time": "2020-03-20T08:30:39.178673Z"
    }
   },
   "outputs": [],
   "source": [
    "soc_med_docs = (join_text(doc, ['abstract']) for doc in search_gen)"
   ]
  },
  {
   "cell_type": "code",
   "execution_count": 156,
   "metadata": {
    "ExecuteTime": {
     "end_time": "2020-03-21T18:52:30.872256Z",
     "start_time": "2020-03-21T18:52:30.861702Z"
    }
   },
   "outputs": [],
   "source": [
    "def author_getter(doc):\n",
    "    author+=json.metadata.authors\n",
    "    doc._.authors = author\n",
    "    return doc\n",
    "\n",
    "def search_snippets(doc, search_criteria):\n",
    "    for sentences in doc.sents:\n",
    "        matches = matcher(sentence)\n",
    "        sentence._.is_match = True\n",
    "\n",
    "nlp.add_pipe(author_getter)"
   ]
  },
  {
   "cell_type": "code",
   "execution_count": 159,
   "metadata": {
    "ExecuteTime": {
     "end_time": "2020-03-21T18:55:27.398132Z",
     "start_time": "2020-03-21T18:55:27.389979Z"
    }
   },
   "outputs": [
    {
     "data": {
      "text/plain": [
       "['tagger', 'parser', 'ner']"
      ]
     },
     "execution_count": 159,
     "metadata": {},
     "output_type": "execute_result"
    }
   ],
   "source": [
    "snippet_details = {}\n",
    "docs = nlp.pipe(document_gen)"
   ]
  },
  {
   "cell_type": "code",
   "execution_count": 46,
   "metadata": {
    "ExecuteTime": {
     "end_time": "2020-03-20T08:30:57.515561Z",
     "start_time": "2020-03-20T08:30:50.743235Z"
    }
   },
   "outputs": [
    {
     "name": "stdout",
     "output_type": "stream",
     "text": [
      "Collection(Database(MongoClient(host=['localhost:56789'], document_class=dict, tz_aware=False, connect=True), 'CORD-19'), 'biorxiv_medrxiv')\n",
      "Collection(Database(MongoClient(host=['localhost:56789'], document_class=dict, tz_aware=False, connect=True), 'CORD-19'), 'comm_use_subset')\n",
      "Collection(Database(MongoClient(host=['localhost:56789'], document_class=dict, tz_aware=False, connect=True), 'CORD-19'), 'noncomm_use_subset')\n",
      "Collection(Database(MongoClient(host=['localhost:56789'], document_class=dict, tz_aware=False, connect=True), 'CORD-19'), 'pmc_custom_license')\n"
     ]
    }
   ],
   "source": [
    "sample_doc = next(docs)\n",
    "doc._.snippets"
   ]
  },
  {
   "cell_type": "code",
   "execution_count": 86,
   "metadata": {
    "ExecuteTime": {
     "end_time": "2020-03-20T17:21:37.109049Z",
     "start_time": "2020-03-20T17:21:37.099381Z"
    }
   },
   "outputs": [
    {
     "name": "stdout",
     "output_type": "stream",
     "text": [
      "https://doi.org/10.1101/466102 doi: bioRxiv preprint 129 for maEBOV we observed that EBOV GP/rVSV was less pathogenic in TIM-1-deficient mice 130 compared to control mice.\n"
     ]
    }
   ],
   "source": [
    "ex = next(sentences)\n",
    "print(ex)"
   ]
  },
  {
   "cell_type": "code",
   "execution_count": 108,
   "metadata": {
    "ExecuteTime": {
     "end_time": "2020-03-20T18:17:03.294941Z",
     "start_time": "2020-03-20T18:17:03.286407Z"
    }
   },
   "outputs": [
    {
     "data": {
      "text/plain": [
       "https://doi.org/10.1101/466102 doi: bioRxiv preprint 129 for maEBOV we observed that EBOV GP/rVSV was less pathogenic in TIM-1-deficient mice 130 compared to control mice."
      ]
     },
     "execution_count": 108,
     "metadata": {},
     "output_type": "execute_result"
    }
   ],
   "source": [
    "ex[0].sent"
   ]
  },
  {
   "cell_type": "code",
   "execution_count": null,
   "metadata": {
    "ExecuteTime": {
     "end_time": "2020-03-19T21:46:26.066137Z",
     "start_time": "2020-03-19T21:46:25.943Z"
    }
   },
   "outputs": [],
   "source": [
    "abstract = [p['text'] for p in next(search_gen)['abstract']]\n",
    "sents = nlp.pipe(soc_med_docs)"
   ]
  },
  {
   "cell_type": "code",
   "execution_count": null,
   "metadata": {
    "ExecuteTime": {
     "end_time": "2020-03-19T21:46:26.067609Z",
     "start_time": "2020-03-19T21:46:25.945Z"
    }
   },
   "outputs": [],
   "source": [
    "ex = next(sents)"
   ]
  },
  {
   "cell_type": "code",
   "execution_count": null,
   "metadata": {
    "ExecuteTime": {
     "end_time": "2020-03-19T21:46:26.068694Z",
     "start_time": "2020-03-19T21:46:25.949Z"
    }
   },
   "outputs": [],
   "source": [
    "ex.tensor"
   ]
  },
  {
   "cell_type": "code",
   "execution_count": null,
   "metadata": {
    "ExecuteTime": {
     "end_time": "2020-03-19T21:46:26.070137Z",
     "start_time": "2020-03-19T21:46:25.951Z"
    }
   },
   "outputs": [],
   "source": [
    "from spacy.lang.en import English\n",
    "print(nlp.pipe_names)\n",
    "#nlp.add_pipe(nlp.create_pipe('sentencizer')) # updated"
   ]
  },
  {
   "cell_type": "code",
   "execution_count": null,
   "metadata": {
    "ExecuteTime": {
     "end_time": "2020-03-19T21:46:26.071326Z",
     "start_time": "2020-03-19T21:46:25.954Z"
    }
   },
   "outputs": [],
   "source": [
    "#nlp.add_pipe(nlp.create_pipe('sentencizer'))\n",
    "nlp.disable_pipes('parser')\n",
    "nlp.pipe_names"
   ]
  },
  {
   "cell_type": "code",
   "execution_count": null,
   "metadata": {
    "ExecuteTime": {
     "end_time": "2020-03-19T21:46:26.072693Z",
     "start_time": "2020-03-19T21:46:25.957Z"
    }
   },
   "outputs": [],
   "source": [
    "corpus = {}\n",
    "for doc in search_collect:\n",
    "    #creates a dict of the joined body text. Keys are Mongo ids. \n",
    "    corpus[doc['_id']]=join_text(doc, key='body_text')"
   ]
  },
  {
   "cell_type": "code",
   "execution_count": null,
   "metadata": {
    "ExecuteTime": {
     "end_time": "2020-03-19T21:46:26.074219Z",
     "start_time": "2020-03-19T21:46:25.959Z"
    }
   },
   "outputs": [],
   "source": [
    "tfidfs = TfidfVectorizer(max_df=0.8, min_df=0.2, stop_words='english')\n",
    "doc_word_tfidf = tfidfs.fit_transform(corpus.values())"
   ]
  },
  {
   "cell_type": "code",
   "execution_count": null,
   "metadata": {
    "ExecuteTime": {
     "end_time": "2020-03-19T21:46:26.075478Z",
     "start_time": "2020-03-19T21:46:25.960Z"
    }
   },
   "outputs": [],
   "source": [
    "doc_word_dataframe = pd.DataFrame(doc_word_tfidf.toarray(), columns = tfidfs.get_feature_names(), index = corpus.keys())"
   ]
  },
  {
   "cell_type": "code",
   "execution_count": null,
   "metadata": {
    "ExecuteTime": {
     "end_time": "2020-03-19T21:46:26.076766Z",
     "start_time": "2020-03-19T21:46:25.963Z"
    }
   },
   "outputs": [],
   "source": [
    "doc_word_dataframe.head()"
   ]
  },
  {
   "cell_type": "code",
   "execution_count": null,
   "metadata": {
    "ExecuteTime": {
     "end_time": "2020-03-19T21:46:26.077757Z",
     "start_time": "2020-03-19T21:46:25.965Z"
    },
    "code_folding": []
   },
   "outputs": [],
   "source": [
    "#experimental text cleaning code\n",
    "\n",
    "body = ''\n",
    "for paragraph in test_doc['body_text']:\n",
    "    section = paragraph['text']\n",
    "    for span in paragraph['ref_spans']:\n",
    "        section = section[:span['start']]+section[span['end']:]\n",
    "    for span in paragraph['cite_spans']:\n",
    "        section = section[:span['start']]+section[span['end']:]\n",
    "    section = re.sub('The copyright.*bioRxiv', '', section)\n",
    "    body+=section\n",
    "        \n",
    "                        "
   ]
  },
  {
   "cell_type": "code",
   "execution_count": null,
   "metadata": {
    "ExecuteTime": {
     "end_time": "2020-03-19T21:46:26.078616Z",
     "start_time": "2020-03-19T21:46:25.967Z"
    }
   },
   "outputs": [],
   "source": [
    " \"\"\"\n",
    " 'In this report, we show first that the standard Susceptible-Infected-Removed (SIR) model cannot account\n",
    " for the patterns observed in various regions where the disease spread.\n",
    " We develop a model involving two superimposed epidemics to study the recent spread of the SARS in Hong Kong\n",
    " and in the region. We explore the situation where these epidemics may be caused either by a virus and\n",
    " one or several mutants that changed its tropism, or by two unrelated viruses. \n",
    " This has important consequences for the future: the innocuous epidemic might still be there and generate,\n",
    " from time to time, variants that would have properties similar to those of SARS.\n",
    " \"\"\""
   ]
  },
  {
   "cell_type": "code",
   "execution_count": null,
   "metadata": {},
   "outputs": [],
   "source": [
    "abstracts = nlp.pipe(document_gen['abstract'])"
   ]
  },
  {
   "cell_type": "code",
   "execution_count": null,
   "metadata": {},
   "outputs": [],
   "source": []
  }
 ],
 "metadata": {
  "kernelspec": {
   "display_name": "Python 3",
   "language": "python",
   "name": "python3"
  },
  "language_info": {
   "codemirror_mode": {
    "name": "ipython",
    "version": 3
   },
   "file_extension": ".py",
   "mimetype": "text/x-python",
   "name": "python",
   "nbconvert_exporter": "python",
   "pygments_lexer": "ipython3",
   "version": "3.7.3"
  },
  "varInspector": {
   "cols": {
    "lenName": 16,
    "lenType": 16,
    "lenVar": 40
   },
   "kernels_config": {
    "python": {
     "delete_cmd_postfix": "",
     "delete_cmd_prefix": "del ",
     "library": "var_list.py",
     "varRefreshCmd": "print(var_dic_list())"
    },
    "r": {
     "delete_cmd_postfix": ") ",
     "delete_cmd_prefix": "rm(",
     "library": "var_list.r",
     "varRefreshCmd": "cat(var_dic_list()) "
    }
   },
   "oldHeight": 359.01666600000004,
   "position": {
    "height": "306px",
    "left": "1385.83px",
    "right": "20px",
    "top": "120px",
    "width": "455.167px"
   },
   "types_to_exclude": [
    "module",
    "function",
    "builtin_function_or_method",
    "instance",
    "_Feature"
   ],
   "varInspector_section_display": "none",
   "window_display": true
  }
 },
 "nbformat": 4,
 "nbformat_minor": 4
}
